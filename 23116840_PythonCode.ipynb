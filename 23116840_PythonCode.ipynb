{
  "cells": [
    {
      "cell_type": "markdown",
      "metadata": {
        "id": "TT46YPhBXu6J"
      },
      "source": [
        "Please load the Planet.csv file to execute both visualisation."
      ]
    },
    {
      "cell_type": "code",
      "execution_count": 1,
      "metadata": {
        "colab": {
          "base_uri": "https://localhost:8080/",
          "height": 837
        },
        "id": "OLSnbVLeptjw",
        "outputId": "0139d39b-fa9d-4f03-fbd7-9071ecb1625f"
      },
      "outputs": [
        {
          "data": {
            "application/vnd.plotly.v1+json": {
              "config": {
                "plotlyServerURL": "https://plot.ly"
              },
              "data": [
                {
                  "customdata": [
                    [
                      "6.08",
                      10,
                      "3.30",
                      23,
                      "57,909,227",
                      "Mercury",
                      60827208742,
                      3.30104e+23
                    ]
                  ],
                  "hovertemplate": "<b>Planet: %{text}</b><br>\n                  <br><span style='font-size: 12px; font-family: Sans-serif'>Surface Gravity(m/s2): %{y:.2f} g/cm³</span>\n                  <br><span style='font-size: 12px; font-family: Sans-serif'>Volume(km3): %{customdata[0]} X 10<sup>%{customdata[1]}</sup></span>\n                  <br><span style='font-size: 12px; font-family: Sans-serif'>Orbit Distance(km) :%{customdata[4]}</span>\n                  <extra></extra>",
                  "legendgroup": "Mercury",
                  "marker": {
                    "color": "#A9A9A9",
                    "line": {
                      "color": "white"
                    },
                    "size": [
                      60827208742
                    ],
                    "sizemode": "area",
                    "sizeref": 63612524921.74934,
                    "symbol": "circle"
                  },
                  "mode": "markers+text",
                  "name": "Mercury",
                  "orientation": "v",
                  "showlegend": false,
                  "text": [
                    "Mercury"
                  ],
                  "textfont": {
                    "color": "white",
                    "size": 12
                  },
                  "textposition": "bottom center",
                  "type": "scatter",
                  "x": [
                    "57,909,227"
                  ],
                  "xaxis": "x",
                  "y": [
                    3.7
                  ],
                  "yaxis": "y"
                },
                {
                  "customdata": [
                    [
                      "9.28",
                      11,
                      "4.87",
                      24,
                      "108,209,475",
                      "Venus",
                      928415345893,
                      4.86732e+24
                    ]
                  ],
                  "hovertemplate": "<b>Planet: %{text}</b><br>\n                  <br><span style='font-size: 12px; font-family: Sans-serif'>Surface Gravity(m/s2): %{y:.2f} g/cm³</span>\n                  <br><span style='font-size: 12px; font-family: Sans-serif'>Volume(km3): %{customdata[0]} X 10<sup>%{customdata[1]}</sup></span>\n                  <br><span style='font-size: 12px; font-family: Sans-serif'>Orbit Distance(km) :%{customdata[4]}</span>\n                  <extra></extra>",
                  "legendgroup": "Venus",
                  "marker": {
                    "color": "#FFD700",
                    "line": {
                      "color": "yellow"
                    },
                    "size": [
                      928415345893
                    ],
                    "sizemode": "area",
                    "sizeref": 63612524921.74934,
                    "symbol": "circle"
                  },
                  "mode": "markers+text",
                  "name": "Venus",
                  "orientation": "v",
                  "showlegend": false,
                  "text": [
                    "Venus"
                  ],
                  "textfont": {
                    "color": "white",
                    "size": 12
                  },
                  "textposition": "bottom center",
                  "type": "scatter",
                  "x": [
                    "108,209,475"
                  ],
                  "xaxis": "x",
                  "y": [
                    8.87
                  ],
                  "yaxis": "y"
                },
                {
                  "customdata": [
                    [
                      "1.08",
                      12,
                      "5.97",
                      24,
                      "149,598,262",
                      "Earth",
                      1083206916846,
                      5.97219e+24
                    ]
                  ],
                  "hovertemplate": "<b>Planet: %{text}</b><br>\n                  <br><span style='font-size: 12px; font-family: Sans-serif'>Surface Gravity(m/s2): %{y:.2f} g/cm³</span>\n                  <br><span style='font-size: 12px; font-family: Sans-serif'>Volume(km3): %{customdata[0]} X 10<sup>%{customdata[1]}</sup></span>\n                  <br><span style='font-size: 12px; font-family: Sans-serif'>Orbit Distance(km) :%{customdata[4]}</span>\n                  <extra></extra>",
                  "legendgroup": "Earth",
                  "marker": {
                    "color": "#4682B4",
                    "line": {
                      "color": "blue"
                    },
                    "size": [
                      1083206916846
                    ],
                    "sizemode": "area",
                    "sizeref": 63612524921.74934,
                    "symbol": "circle"
                  },
                  "mode": "markers+text",
                  "name": "Earth",
                  "orientation": "v",
                  "showlegend": false,
                  "text": [
                    "Earth"
                  ],
                  "textfont": {
                    "color": "white",
                    "size": 12
                  },
                  "textposition": "bottom center",
                  "type": "scatter",
                  "x": [
                    "149,598,262"
                  ],
                  "xaxis": "x",
                  "y": [
                    9.80665
                  ],
                  "yaxis": "y"
                },
                {
                  "customdata": [
                    [
                      "1.63",
                      11,
                      "6.42",
                      23,
                      "227,943,824",
                      "Mars",
                      163115609799,
                      6.41693e+23
                    ]
                  ],
                  "hovertemplate": "<b>Planet: %{text}</b><br>\n                  <br><span style='font-size: 12px; font-family: Sans-serif'>Surface Gravity(m/s2): %{y:.2f} g/cm³</span>\n                  <br><span style='font-size: 12px; font-family: Sans-serif'>Volume(km3): %{customdata[0]} X 10<sup>%{customdata[1]}</sup></span>\n                  <br><span style='font-size: 12px; font-family: Sans-serif'>Orbit Distance(km) :%{customdata[4]}</span>\n                  <extra></extra>",
                  "legendgroup": "Mars",
                  "marker": {
                    "color": "#CD5C5C",
                    "line": {
                      "color": "red"
                    },
                    "size": [
                      163115609799
                    ],
                    "sizemode": "area",
                    "sizeref": 63612524921.74934,
                    "symbol": "circle"
                  },
                  "mode": "markers+text",
                  "name": "Mars",
                  "orientation": "v",
                  "showlegend": false,
                  "text": [
                    "Mars"
                  ],
                  "textfont": {
                    "color": "white",
                    "size": 12
                  },
                  "textposition": "bottom center",
                  "type": "scatter",
                  "x": [
                    "227,943,824"
                  ],
                  "xaxis": "x",
                  "y": [
                    3.71
                  ],
                  "yaxis": "y"
                },
                {
                  "customdata": [
                    [
                      "1.43",
                      15,
                      "1.90",
                      27,
                      "778,340,821",
                      "Jupiter",
                      1431281810739360,
                      1.89813e+27
                    ]
                  ],
                  "hovertemplate": "<b>Planet: %{text}</b><br>\n                  <br><span style='font-size: 12px; font-family: Sans-serif'>Surface Gravity(m/s2): %{y:.2f} g/cm³</span>\n                  <br><span style='font-size: 12px; font-family: Sans-serif'>Volume(km3): %{customdata[0]} X 10<sup>%{customdata[1]}</sup></span>\n                  <br><span style='font-size: 12px; font-family: Sans-serif'>Orbit Distance(km) :%{customdata[4]}</span>\n                  <extra></extra>",
                  "legendgroup": "Jupiter",
                  "marker": {
                    "color": "#FF6347",
                    "size": [
                      1431281810739360
                    ],
                    "sizemode": "area",
                    "sizeref": 63612524921.74934,
                    "symbol": "circle"
                  },
                  "mode": "markers+text",
                  "name": "Jupiter",
                  "orientation": "v",
                  "showlegend": false,
                  "text": [
                    "Jupiter"
                  ],
                  "textfont": {
                    "color": "white",
                    "size": 12
                  },
                  "textposition": "bottom center",
                  "type": "scatter",
                  "x": [
                    "778,340,821"
                  ],
                  "xaxis": "x",
                  "y": [
                    24.79
                  ],
                  "yaxis": "y"
                },
                {
                  "customdata": [
                    [
                      "8.27",
                      14,
                      "5.68",
                      26,
                      "1,426,666,422",
                      "Saturn",
                      827129915150897,
                      5.68319e+26
                    ]
                  ],
                  "hovertemplate": "<b>Planet: %{text}</b><br>\n                  <br><span style='font-size: 12px; font-family: Sans-serif'>Surface Gravity(m/s2): %{y:.2f} g/cm³</span>\n                  <br><span style='font-size: 12px; font-family: Sans-serif'>Volume(km3): %{customdata[0]} X 10<sup>%{customdata[1]}</sup></span>\n                  <br><span style='font-size: 12px; font-family: Sans-serif'>Orbit Distance(km) :%{customdata[4]}</span>\n                  <extra></extra>",
                  "legendgroup": "Saturn",
                  "marker": {
                    "color": "#ffdea7",
                    "size": [
                      827129915150897
                    ],
                    "sizemode": "area",
                    "sizeref": 63612524921.74934,
                    "symbol": "circle"
                  },
                  "mode": "markers+text",
                  "name": "Saturn",
                  "orientation": "v",
                  "showlegend": false,
                  "text": [
                    "Saturn"
                  ],
                  "textfont": {
                    "color": "white",
                    "size": 12
                  },
                  "textposition": "bottom center",
                  "type": "scatter",
                  "x": [
                    "1,426,666,422"
                  ],
                  "xaxis": "x",
                  "y": [
                    10.4
                  ],
                  "yaxis": "y"
                },
                {
                  "customdata": [
                    [
                      "6.83",
                      13,
                      "8.68",
                      25,
                      "2,870,658,186",
                      "Uranus",
                      68334355695584,
                      8.68103e+25
                    ]
                  ],
                  "hovertemplate": "<b>Planet: %{text}</b><br>\n                  <br><span style='font-size: 12px; font-family: Sans-serif'>Surface Gravity(m/s2): %{y:.2f} g/cm³</span>\n                  <br><span style='font-size: 12px; font-family: Sans-serif'>Volume(km3): %{customdata[0]} X 10<sup>%{customdata[1]}</sup></span>\n                  <br><span style='font-size: 12px; font-family: Sans-serif'>Orbit Distance(km) :%{customdata[4]}</span>\n                  <extra></extra>",
                  "legendgroup": "Uranus",
                  "marker": {
                    "color": "#87CEEB",
                    "size": [
                      68334355695584
                    ],
                    "sizemode": "area",
                    "sizeref": 63612524921.74934,
                    "symbol": "circle"
                  },
                  "mode": "markers+text",
                  "name": "Uranus",
                  "orientation": "v",
                  "showlegend": false,
                  "text": [
                    "Uranus"
                  ],
                  "textfont": {
                    "color": "white",
                    "size": 12
                  },
                  "textposition": "bottom center",
                  "type": "scatter",
                  "x": [
                    "2,870,658,186"
                  ],
                  "xaxis": "x",
                  "y": [
                    8.87
                  ],
                  "yaxis": "y"
                },
                {
                  "customdata": [
                    [
                      "6.25",
                      13,
                      "1.02",
                      26,
                      "4,498,396,441",
                      "Neptune",
                      62525703987421,
                      1.0241e+26
                    ]
                  ],
                  "hovertemplate": "<b>Planet: %{text}</b><br>\n                  <br><span style='font-size: 12px; font-family: Sans-serif'>Surface Gravity(m/s2): %{y:.2f} g/cm³</span>\n                  <br><span style='font-size: 12px; font-family: Sans-serif'>Volume(km3): %{customdata[0]} X 10<sup>%{customdata[1]}</sup></span>\n                  <br><span style='font-size: 12px; font-family: Sans-serif'>Orbit Distance(km) :%{customdata[4]}</span>\n                  <extra></extra>",
                  "legendgroup": "Neptune",
                  "marker": {
                    "color": "#3d5ef9",
                    "size": [
                      62525703987421
                    ],
                    "sizemode": "area",
                    "sizeref": 63612524921.74934,
                    "symbol": "circle"
                  },
                  "mode": "markers+text",
                  "name": "Neptune",
                  "orientation": "v",
                  "showlegend": false,
                  "text": [
                    "Neptune"
                  ],
                  "textfont": {
                    "color": "white",
                    "size": 12
                  },
                  "textposition": "bottom center",
                  "type": "scatter",
                  "x": [
                    "4,498,396,441"
                  ],
                  "xaxis": "x",
                  "y": [
                    11.15
                  ],
                  "yaxis": "y"
                }
              ],
              "layout": {
                "annotations": [
                  {
                    "font": {
                      "color": "grey",
                      "family": "Sans-serif",
                      "size": 14
                    },
                    "showarrow": false,
                    "text": "Hover over the planets to learn more",
                    "x": 0.001,
                    "xref": "paper",
                    "y": 1.05,
                    "yref": "paper"
                  },
                  {
                    "align": "left",
                    "font": {
                      "color": "grey",
                      "family": "Sans-serif",
                      "size": 12
                    },
                    "showarrow": false,
                    "text": "The x-axis scale represents values increasing by 10 million.",
                    "x": 0.001,
                    "xref": "paper",
                    "y": -0.07,
                    "yref": "paper"
                  }
                ],
                "height": 820,
                "images": [
                  {
                    "layer": "below",
                    "opacity": 0.5,
                    "sizex": 1,
                    "sizey": 1,
                    "sizing": "stretch",
                    "source": "https://media.istockphoto.com/id/1372399516/vector/dark-blue-defocused-blurred-motion-gradient-soft-abstract-background-vector.jpg?s=612x612&w=0&k=20&c=ulLw1_awuztJ1ujhXSBAjQpI4L5PHuF-RE01zlAQHZ0=",
                    "x": 0,
                    "xref": "paper",
                    "y": 1,
                    "yref": "paper"
                  }
                ],
                "legend": {
                  "bgcolor": "black",
                  "bordercolor": "black",
                  "borderwidth": 1,
                  "font": {
                    "color": "white",
                    "family": "Sans-serif",
                    "size": 12
                  },
                  "itemsizing": "constant",
                  "title": {
                    "text": "Planet"
                  },
                  "tracegroupgap": 0
                },
                "plot_bgcolor": "black",
                "template": {
                  "data": {
                    "bar": [
                      {
                        "error_x": {
                          "color": "#f2f5fa"
                        },
                        "error_y": {
                          "color": "#f2f5fa"
                        },
                        "marker": {
                          "line": {
                            "color": "rgb(17,17,17)",
                            "width": 0.5
                          },
                          "pattern": {
                            "fillmode": "overlay",
                            "size": 10,
                            "solidity": 0.2
                          }
                        },
                        "type": "bar"
                      }
                    ],
                    "barpolar": [
                      {
                        "marker": {
                          "line": {
                            "color": "rgb(17,17,17)",
                            "width": 0.5
                          },
                          "pattern": {
                            "fillmode": "overlay",
                            "size": 10,
                            "solidity": 0.2
                          }
                        },
                        "type": "barpolar"
                      }
                    ],
                    "carpet": [
                      {
                        "aaxis": {
                          "endlinecolor": "#A2B1C6",
                          "gridcolor": "#506784",
                          "linecolor": "#506784",
                          "minorgridcolor": "#506784",
                          "startlinecolor": "#A2B1C6"
                        },
                        "baxis": {
                          "endlinecolor": "#A2B1C6",
                          "gridcolor": "#506784",
                          "linecolor": "#506784",
                          "minorgridcolor": "#506784",
                          "startlinecolor": "#A2B1C6"
                        },
                        "type": "carpet"
                      }
                    ],
                    "choropleth": [
                      {
                        "colorbar": {
                          "outlinewidth": 0,
                          "ticks": ""
                        },
                        "type": "choropleth"
                      }
                    ],
                    "contour": [
                      {
                        "colorbar": {
                          "outlinewidth": 0,
                          "ticks": ""
                        },
                        "colorscale": [
                          [
                            0,
                            "#0d0887"
                          ],
                          [
                            0.1111111111111111,
                            "#46039f"
                          ],
                          [
                            0.2222222222222222,
                            "#7201a8"
                          ],
                          [
                            0.3333333333333333,
                            "#9c179e"
                          ],
                          [
                            0.4444444444444444,
                            "#bd3786"
                          ],
                          [
                            0.5555555555555556,
                            "#d8576b"
                          ],
                          [
                            0.6666666666666666,
                            "#ed7953"
                          ],
                          [
                            0.7777777777777778,
                            "#fb9f3a"
                          ],
                          [
                            0.8888888888888888,
                            "#fdca26"
                          ],
                          [
                            1,
                            "#f0f921"
                          ]
                        ],
                        "type": "contour"
                      }
                    ],
                    "contourcarpet": [
                      {
                        "colorbar": {
                          "outlinewidth": 0,
                          "ticks": ""
                        },
                        "type": "contourcarpet"
                      }
                    ],
                    "heatmap": [
                      {
                        "colorbar": {
                          "outlinewidth": 0,
                          "ticks": ""
                        },
                        "colorscale": [
                          [
                            0,
                            "#0d0887"
                          ],
                          [
                            0.1111111111111111,
                            "#46039f"
                          ],
                          [
                            0.2222222222222222,
                            "#7201a8"
                          ],
                          [
                            0.3333333333333333,
                            "#9c179e"
                          ],
                          [
                            0.4444444444444444,
                            "#bd3786"
                          ],
                          [
                            0.5555555555555556,
                            "#d8576b"
                          ],
                          [
                            0.6666666666666666,
                            "#ed7953"
                          ],
                          [
                            0.7777777777777778,
                            "#fb9f3a"
                          ],
                          [
                            0.8888888888888888,
                            "#fdca26"
                          ],
                          [
                            1,
                            "#f0f921"
                          ]
                        ],
                        "type": "heatmap"
                      }
                    ],
                    "heatmapgl": [
                      {
                        "colorbar": {
                          "outlinewidth": 0,
                          "ticks": ""
                        },
                        "colorscale": [
                          [
                            0,
                            "#0d0887"
                          ],
                          [
                            0.1111111111111111,
                            "#46039f"
                          ],
                          [
                            0.2222222222222222,
                            "#7201a8"
                          ],
                          [
                            0.3333333333333333,
                            "#9c179e"
                          ],
                          [
                            0.4444444444444444,
                            "#bd3786"
                          ],
                          [
                            0.5555555555555556,
                            "#d8576b"
                          ],
                          [
                            0.6666666666666666,
                            "#ed7953"
                          ],
                          [
                            0.7777777777777778,
                            "#fb9f3a"
                          ],
                          [
                            0.8888888888888888,
                            "#fdca26"
                          ],
                          [
                            1,
                            "#f0f921"
                          ]
                        ],
                        "type": "heatmapgl"
                      }
                    ],
                    "histogram": [
                      {
                        "marker": {
                          "pattern": {
                            "fillmode": "overlay",
                            "size": 10,
                            "solidity": 0.2
                          }
                        },
                        "type": "histogram"
                      }
                    ],
                    "histogram2d": [
                      {
                        "colorbar": {
                          "outlinewidth": 0,
                          "ticks": ""
                        },
                        "colorscale": [
                          [
                            0,
                            "#0d0887"
                          ],
                          [
                            0.1111111111111111,
                            "#46039f"
                          ],
                          [
                            0.2222222222222222,
                            "#7201a8"
                          ],
                          [
                            0.3333333333333333,
                            "#9c179e"
                          ],
                          [
                            0.4444444444444444,
                            "#bd3786"
                          ],
                          [
                            0.5555555555555556,
                            "#d8576b"
                          ],
                          [
                            0.6666666666666666,
                            "#ed7953"
                          ],
                          [
                            0.7777777777777778,
                            "#fb9f3a"
                          ],
                          [
                            0.8888888888888888,
                            "#fdca26"
                          ],
                          [
                            1,
                            "#f0f921"
                          ]
                        ],
                        "type": "histogram2d"
                      }
                    ],
                    "histogram2dcontour": [
                      {
                        "colorbar": {
                          "outlinewidth": 0,
                          "ticks": ""
                        },
                        "colorscale": [
                          [
                            0,
                            "#0d0887"
                          ],
                          [
                            0.1111111111111111,
                            "#46039f"
                          ],
                          [
                            0.2222222222222222,
                            "#7201a8"
                          ],
                          [
                            0.3333333333333333,
                            "#9c179e"
                          ],
                          [
                            0.4444444444444444,
                            "#bd3786"
                          ],
                          [
                            0.5555555555555556,
                            "#d8576b"
                          ],
                          [
                            0.6666666666666666,
                            "#ed7953"
                          ],
                          [
                            0.7777777777777778,
                            "#fb9f3a"
                          ],
                          [
                            0.8888888888888888,
                            "#fdca26"
                          ],
                          [
                            1,
                            "#f0f921"
                          ]
                        ],
                        "type": "histogram2dcontour"
                      }
                    ],
                    "mesh3d": [
                      {
                        "colorbar": {
                          "outlinewidth": 0,
                          "ticks": ""
                        },
                        "type": "mesh3d"
                      }
                    ],
                    "parcoords": [
                      {
                        "line": {
                          "colorbar": {
                            "outlinewidth": 0,
                            "ticks": ""
                          }
                        },
                        "type": "parcoords"
                      }
                    ],
                    "pie": [
                      {
                        "automargin": true,
                        "type": "pie"
                      }
                    ],
                    "scatter": [
                      {
                        "marker": {
                          "line": {
                            "color": "#283442"
                          }
                        },
                        "type": "scatter"
                      }
                    ],
                    "scatter3d": [
                      {
                        "line": {
                          "colorbar": {
                            "outlinewidth": 0,
                            "ticks": ""
                          }
                        },
                        "marker": {
                          "colorbar": {
                            "outlinewidth": 0,
                            "ticks": ""
                          }
                        },
                        "type": "scatter3d"
                      }
                    ],
                    "scattercarpet": [
                      {
                        "marker": {
                          "colorbar": {
                            "outlinewidth": 0,
                            "ticks": ""
                          }
                        },
                        "type": "scattercarpet"
                      }
                    ],
                    "scattergeo": [
                      {
                        "marker": {
                          "colorbar": {
                            "outlinewidth": 0,
                            "ticks": ""
                          }
                        },
                        "type": "scattergeo"
                      }
                    ],
                    "scattergl": [
                      {
                        "marker": {
                          "line": {
                            "color": "#283442"
                          }
                        },
                        "type": "scattergl"
                      }
                    ],
                    "scattermapbox": [
                      {
                        "marker": {
                          "colorbar": {
                            "outlinewidth": 0,
                            "ticks": ""
                          }
                        },
                        "type": "scattermapbox"
                      }
                    ],
                    "scatterpolar": [
                      {
                        "marker": {
                          "colorbar": {
                            "outlinewidth": 0,
                            "ticks": ""
                          }
                        },
                        "type": "scatterpolar"
                      }
                    ],
                    "scatterpolargl": [
                      {
                        "marker": {
                          "colorbar": {
                            "outlinewidth": 0,
                            "ticks": ""
                          }
                        },
                        "type": "scatterpolargl"
                      }
                    ],
                    "scatterternary": [
                      {
                        "marker": {
                          "colorbar": {
                            "outlinewidth": 0,
                            "ticks": ""
                          }
                        },
                        "type": "scatterternary"
                      }
                    ],
                    "surface": [
                      {
                        "colorbar": {
                          "outlinewidth": 0,
                          "ticks": ""
                        },
                        "colorscale": [
                          [
                            0,
                            "#0d0887"
                          ],
                          [
                            0.1111111111111111,
                            "#46039f"
                          ],
                          [
                            0.2222222222222222,
                            "#7201a8"
                          ],
                          [
                            0.3333333333333333,
                            "#9c179e"
                          ],
                          [
                            0.4444444444444444,
                            "#bd3786"
                          ],
                          [
                            0.5555555555555556,
                            "#d8576b"
                          ],
                          [
                            0.6666666666666666,
                            "#ed7953"
                          ],
                          [
                            0.7777777777777778,
                            "#fb9f3a"
                          ],
                          [
                            0.8888888888888888,
                            "#fdca26"
                          ],
                          [
                            1,
                            "#f0f921"
                          ]
                        ],
                        "type": "surface"
                      }
                    ],
                    "table": [
                      {
                        "cells": {
                          "fill": {
                            "color": "#506784"
                          },
                          "line": {
                            "color": "rgb(17,17,17)"
                          }
                        },
                        "header": {
                          "fill": {
                            "color": "#2a3f5f"
                          },
                          "line": {
                            "color": "rgb(17,17,17)"
                          }
                        },
                        "type": "table"
                      }
                    ]
                  },
                  "layout": {
                    "annotationdefaults": {
                      "arrowcolor": "#f2f5fa",
                      "arrowhead": 0,
                      "arrowwidth": 1
                    },
                    "autotypenumbers": "strict",
                    "coloraxis": {
                      "colorbar": {
                        "outlinewidth": 0,
                        "ticks": ""
                      }
                    },
                    "colorscale": {
                      "diverging": [
                        [
                          0,
                          "#8e0152"
                        ],
                        [
                          0.1,
                          "#c51b7d"
                        ],
                        [
                          0.2,
                          "#de77ae"
                        ],
                        [
                          0.3,
                          "#f1b6da"
                        ],
                        [
                          0.4,
                          "#fde0ef"
                        ],
                        [
                          0.5,
                          "#f7f7f7"
                        ],
                        [
                          0.6,
                          "#e6f5d0"
                        ],
                        [
                          0.7,
                          "#b8e186"
                        ],
                        [
                          0.8,
                          "#7fbc41"
                        ],
                        [
                          0.9,
                          "#4d9221"
                        ],
                        [
                          1,
                          "#276419"
                        ]
                      ],
                      "sequential": [
                        [
                          0,
                          "#0d0887"
                        ],
                        [
                          0.1111111111111111,
                          "#46039f"
                        ],
                        [
                          0.2222222222222222,
                          "#7201a8"
                        ],
                        [
                          0.3333333333333333,
                          "#9c179e"
                        ],
                        [
                          0.4444444444444444,
                          "#bd3786"
                        ],
                        [
                          0.5555555555555556,
                          "#d8576b"
                        ],
                        [
                          0.6666666666666666,
                          "#ed7953"
                        ],
                        [
                          0.7777777777777778,
                          "#fb9f3a"
                        ],
                        [
                          0.8888888888888888,
                          "#fdca26"
                        ],
                        [
                          1,
                          "#f0f921"
                        ]
                      ],
                      "sequentialminus": [
                        [
                          0,
                          "#0d0887"
                        ],
                        [
                          0.1111111111111111,
                          "#46039f"
                        ],
                        [
                          0.2222222222222222,
                          "#7201a8"
                        ],
                        [
                          0.3333333333333333,
                          "#9c179e"
                        ],
                        [
                          0.4444444444444444,
                          "#bd3786"
                        ],
                        [
                          0.5555555555555556,
                          "#d8576b"
                        ],
                        [
                          0.6666666666666666,
                          "#ed7953"
                        ],
                        [
                          0.7777777777777778,
                          "#fb9f3a"
                        ],
                        [
                          0.8888888888888888,
                          "#fdca26"
                        ],
                        [
                          1,
                          "#f0f921"
                        ]
                      ]
                    },
                    "colorway": [
                      "#636efa",
                      "#EF553B",
                      "#00cc96",
                      "#ab63fa",
                      "#FFA15A",
                      "#19d3f3",
                      "#FF6692",
                      "#B6E880",
                      "#FF97FF",
                      "#FECB52"
                    ],
                    "font": {
                      "color": "#f2f5fa"
                    },
                    "geo": {
                      "bgcolor": "rgb(17,17,17)",
                      "lakecolor": "rgb(17,17,17)",
                      "landcolor": "rgb(17,17,17)",
                      "showlakes": true,
                      "showland": true,
                      "subunitcolor": "#506784"
                    },
                    "hoverlabel": {
                      "align": "left"
                    },
                    "hovermode": "closest",
                    "mapbox": {
                      "style": "dark"
                    },
                    "paper_bgcolor": "rgb(17,17,17)",
                    "plot_bgcolor": "rgb(17,17,17)",
                    "polar": {
                      "angularaxis": {
                        "gridcolor": "#506784",
                        "linecolor": "#506784",
                        "ticks": ""
                      },
                      "bgcolor": "rgb(17,17,17)",
                      "radialaxis": {
                        "gridcolor": "#506784",
                        "linecolor": "#506784",
                        "ticks": ""
                      }
                    },
                    "scene": {
                      "xaxis": {
                        "backgroundcolor": "rgb(17,17,17)",
                        "gridcolor": "#506784",
                        "gridwidth": 2,
                        "linecolor": "#506784",
                        "showbackground": true,
                        "ticks": "",
                        "zerolinecolor": "#C8D4E3"
                      },
                      "yaxis": {
                        "backgroundcolor": "rgb(17,17,17)",
                        "gridcolor": "#506784",
                        "gridwidth": 2,
                        "linecolor": "#506784",
                        "showbackground": true,
                        "ticks": "",
                        "zerolinecolor": "#C8D4E3"
                      },
                      "zaxis": {
                        "backgroundcolor": "rgb(17,17,17)",
                        "gridcolor": "#506784",
                        "gridwidth": 2,
                        "linecolor": "#506784",
                        "showbackground": true,
                        "ticks": "",
                        "zerolinecolor": "#C8D4E3"
                      }
                    },
                    "shapedefaults": {
                      "line": {
                        "color": "#f2f5fa"
                      }
                    },
                    "sliderdefaults": {
                      "bgcolor": "#C8D4E3",
                      "bordercolor": "rgb(17,17,17)",
                      "borderwidth": 1,
                      "tickwidth": 0
                    },
                    "ternary": {
                      "aaxis": {
                        "gridcolor": "#506784",
                        "linecolor": "#506784",
                        "ticks": ""
                      },
                      "baxis": {
                        "gridcolor": "#506784",
                        "linecolor": "#506784",
                        "ticks": ""
                      },
                      "bgcolor": "rgb(17,17,17)",
                      "caxis": {
                        "gridcolor": "#506784",
                        "linecolor": "#506784",
                        "ticks": ""
                      }
                    },
                    "title": {
                      "x": 0.05
                    },
                    "updatemenudefaults": {
                      "bgcolor": "#506784",
                      "borderwidth": 0
                    },
                    "xaxis": {
                      "automargin": true,
                      "gridcolor": "#283442",
                      "linecolor": "#506784",
                      "ticks": "",
                      "title": {
                        "standoff": 15
                      },
                      "zerolinecolor": "#283442",
                      "zerolinewidth": 2
                    },
                    "yaxis": {
                      "automargin": true,
                      "gridcolor": "#283442",
                      "linecolor": "#506784",
                      "ticks": "",
                      "title": {
                        "standoff": 15
                      },
                      "zerolinecolor": "#283442",
                      "zerolinewidth": 2
                    }
                  }
                },
                "title": {
                  "font": {
                    "color": "white",
                    "family": "Sans-serif",
                    "size": 30
                  },
                  "text": "Surface Gravity of each Solar System Planets",
                  "x": 0.07
                },
                "updatemenus": [
                  {
                    "active": 0,
                    "bgcolor": "#f2d8d8",
                    "buttons": [
                      {
                        "args": [
                          {
                            "hovertemplate": "<b>Planet: %{text}</b><br><br>Surface Gravity(m/s2): %{y:.2f} g/cm3<br>Volume(km3): %{customdata[0]} X 10<sup>%{customdata[1]}</sup><extra></extra><br>Orbit Distance(km) :%{customdata[4]}<extra><extra>",
                            "visible": true
                          },
                          {
                            "title": "Surface Gravity of each Solar System Planets",
                            "yaxis.visible": true
                          }
                        ],
                        "label": "Solar System",
                        "method": "update"
                      },
                      {
                        "args": [
                          {
                            "hovertemplate": "<b>Planet: Mercury</b><br><br>Volume: 6.08X 10<sup>10 </sup><br>Mass: 3.3X 10<sup>23 </sup><br>Orbit Distance(km): 57,909,227<br>Surface Gravity: 3.7<br>Density: 5.427<br>Equatorial Radius(km): 2,439.70<br>Atmospheric Constituents: nan<br>Mean Orbit Velocity(km/h): 170,503<br>Mean Orbit Distance(km): 57,909,227<br>Number of Moons: 0<br>Do they have Rings?: No<extra></extra>",
                            "visible": [
                              true,
                              false,
                              false,
                              false,
                              false,
                              false,
                              false,
                              false
                            ]
                          },
                          {
                            "title": "Planet: Mercury",
                            "yaxis.visible": true
                          }
                        ],
                        "label": "Mercury",
                        "method": "update",
                        "name": "Mercury"
                      },
                      {
                        "args": [
                          {
                            "hovertemplate": "<b>Planet: Venus</b><br><br>Volume: 9.28X 10<sup>11 </sup><br>Mass: 4.87X 10<sup>24 </sup><br>Orbit Distance(km): 108,209,475<br>Surface Gravity: 8.87<br>Density: 5.243<br>Equatorial Radius(km): 6,051.80<br>Atmospheric Constituents: Carbon Dioxide, Nitrogen<br>Mean Orbit Velocity(km/h): 126,074<br>Mean Orbit Distance(km): 108,209,475<br>Number of Moons: 0<br>Do they have Rings?: No<extra></extra>",
                            "visible": [
                              false,
                              true,
                              false,
                              false,
                              false,
                              false,
                              false,
                              false
                            ]
                          },
                          {
                            "title": "Planet: Venus",
                            "yaxis.visible": true
                          }
                        ],
                        "label": "Venus",
                        "method": "update",
                        "name": "Venus"
                      },
                      {
                        "args": [
                          {
                            "hovertemplate": "<b>Planet: Earth</b><br><br>Volume: 1.08X 10<sup>12 </sup><br>Mass: 5.97X 10<sup>24 </sup><br>Orbit Distance(km): 149,598,262<br>Surface Gravity: 9.80665<br>Density: 5.513<br>Equatorial Radius(km): 6,371.00<br>Atmospheric Constituents: Nitrogen, Oxygen<br>Mean Orbit Velocity(km/h): 107,218<br>Mean Orbit Distance(km): 149,598,262<br>Number of Moons: 1<br>Do they have Rings?: No<extra></extra>",
                            "visible": [
                              false,
                              false,
                              true,
                              false,
                              false,
                              false,
                              false,
                              false
                            ]
                          },
                          {
                            "title": "Planet: Earth",
                            "yaxis.visible": true
                          }
                        ],
                        "label": "Earth",
                        "method": "update",
                        "name": "Earth"
                      },
                      {
                        "args": [
                          {
                            "hovertemplate": "<b>Planet: Mars</b><br><br>Volume: 1.63X 10<sup>11 </sup><br>Mass: 6.42X 10<sup>23 </sup><br>Orbit Distance(km): 227,943,824<br>Surface Gravity: 3.71<br>Density: 3.934<br>Equatorial Radius(km): 3,389.50<br>Atmospheric Constituents: Carbon Dioxide, Nitrogen, Argon<br>Mean Orbit Velocity(km/h): 86,677<br>Mean Orbit Distance(km): 227,943,824<br>Number of Moons: 2<br>Do they have Rings?: No<extra></extra>",
                            "visible": [
                              false,
                              false,
                              false,
                              true,
                              false,
                              false,
                              false,
                              false
                            ]
                          },
                          {
                            "title": "Planet: Mars",
                            "yaxis.visible": true
                          }
                        ],
                        "label": "Mars",
                        "method": "update",
                        "name": "Mars"
                      },
                      {
                        "args": [
                          {
                            "hovertemplate": "<b>Planet: Jupiter</b><br><br>Volume: 1.43X 10<sup>15 </sup><br>Mass: 1.9X 10<sup>27 </sup><br>Orbit Distance(km): 778,340,821<br>Surface Gravity: 24.79<br>Density: 1.326<br>Equatorial Radius(km): 69,911<br>Atmospheric Constituents: Hydrogen, Helium<br>Mean Orbit Velocity(km/h): 47,002<br>Mean Orbit Distance(km): 778,340,821<br>Number of Moons: 95<br>Do they have Rings?: Yes<extra></extra>",
                            "visible": [
                              false,
                              false,
                              false,
                              false,
                              true,
                              false,
                              false,
                              false
                            ]
                          },
                          {
                            "title": "Planet: Jupiter",
                            "yaxis.visible": true
                          }
                        ],
                        "label": "Jupiter",
                        "method": "update",
                        "name": "Jupiter"
                      },
                      {
                        "args": [
                          {
                            "hovertemplate": "<b>Planet: Saturn</b><br><br>Volume: 8.27X 10<sup>14 </sup><br>Mass: 5.68X 10<sup>26 </sup><br>Orbit Distance(km): 1,426,666,422<br>Surface Gravity: 10.4<br>Density: 0.687<br>Equatorial Radius(km): 58,232<br>Atmospheric Constituents: Hydrogen, Helium<br>Mean Orbit Velocity(km/h): 34,701<br>Mean Orbit Distance(km): 1,426,666,422<br>Number of Moons: 84<br>Do they have Rings?: Yes<extra></extra>",
                            "visible": [
                              false,
                              false,
                              false,
                              false,
                              false,
                              true,
                              false,
                              false
                            ]
                          },
                          {
                            "title": "Planet: Saturn",
                            "yaxis.visible": true
                          }
                        ],
                        "label": "Saturn",
                        "method": "update",
                        "name": "Saturn"
                      },
                      {
                        "args": [
                          {
                            "hovertemplate": "<b>Planet: Uranus</b><br><br>Volume: 6.83X 10<sup>13 </sup><br>Mass: 8.68X 10<sup>25 </sup><br>Orbit Distance(km): 2,870,658,186<br>Surface Gravity: 8.87<br>Density: 1.27<br>Equatorial Radius(km): 25,362<br>Atmospheric Constituents: Hydrogen, Helium, Methane<br>Mean Orbit Velocity(km/h): 24,477<br>Mean Orbit Distance(km): 2,870,658,186<br>Number of Moons: 27<br>Do they have Rings?: Yes<extra></extra>",
                            "visible": [
                              false,
                              false,
                              false,
                              false,
                              false,
                              false,
                              true,
                              false
                            ]
                          },
                          {
                            "title": "Planet: Uranus",
                            "yaxis.visible": true
                          }
                        ],
                        "label": "Uranus",
                        "method": "update",
                        "name": "Uranus"
                      },
                      {
                        "args": [
                          {
                            "hovertemplate": "<b>Planet: Neptune</b><br><br>Volume: 6.25X 10<sup>13 </sup><br>Mass: 1.02X 10<sup>26 </sup><br>Orbit Distance(km): 4,498,396,441<br>Surface Gravity: 11.15<br>Density: 1.638<br>Equatorial Radius(km): 24,622<br>Atmospheric Constituents: Hydrogen, Helium, Methane<br>Mean Orbit Velocity(km/h): 19,566<br>Mean Orbit Distance(km): 4,498,396,441<br>Number of Moons: 14<br>Do they have Rings?: Yes<extra></extra>",
                            "visible": [
                              false,
                              false,
                              false,
                              false,
                              false,
                              false,
                              false,
                              true
                            ]
                          },
                          {
                            "title": "Planet: Neptune",
                            "yaxis.visible": true
                          }
                        ],
                        "label": "Neptune",
                        "method": "update",
                        "name": "Neptune"
                      }
                    ],
                    "font": {
                      "color": "black"
                    },
                    "showactive": true,
                    "x": 1.05,
                    "xanchor": "left",
                    "y": 1.05,
                    "yanchor": "top"
                  }
                ],
                "width": 1300,
                "xaxis": {
                  "anchor": "y",
                  "domain": [
                    0,
                    1
                  ],
                  "title": {
                    "standoff": 30,
                    "text": "Orbit Distance from the Sun (Km)"
                  },
                  "type": "log",
                  "visible": true
                },
                "yaxis": {
                  "anchor": "x",
                  "domain": [
                    0,
                    1
                  ],
                  "gridcolor": "grey",
                  "tickfont": {
                    "color": "white",
                    "family": "Sans-serif",
                    "size": 14
                  },
                  "ticksuffix": " m/s2",
                  "title": {
                    "text": "Surface Gravity(m/s2)"
                  },
                  "zerolinecolor": "grey"
                }
              }
            }
          },
          "metadata": {},
          "output_type": "display_data"
        }
      ],
      "source": [
        "# FIRST VISUALISATION: (Surface Gravity of Each Solar System Planet)\n",
        "\n",
        "import pandas as pd\n",
        "import plotly.express as px\n",
        "# Reading the CSV file into 2 DataFrame\n",
        "df = pd.read_csv('Planet.csv', encoding='iso-8859-1')\n",
        "df1 = pd.read_csv('Planet.csv', encoding='iso-8859-1')\n",
        "\n",
        "# Set the volume and mass conversion to scientific notation\n",
        "# converts Volume(cm3) column to string\n",
        "df[\"Volume(km3)\"] = df[\"Volume(km3)\"].astype(str)\n",
        "# removing commas from Volume(cm3) column\n",
        "df[\"Volume(km3)\"] = df[\"Volume(km3)\"].str.replace(',', '')\n",
        "# Convert Volume(cm3) column to numeric and handle non-numeric values\n",
        "df[\"Volume(km3)\"] = pd.to_numeric(df[\"Volume(km3)\"], errors='coerce')\n",
        "# convert Mass(kg) column to string\n",
        "df[\"Mass(kg)\"] = df[\"Mass(kg)\"].astype(str)\n",
        "# remove commas from Mass(kg)) column\n",
        "df[\"Mass(kg)\"] = df[\"Mass(kg)\"].str.replace(',', '')\n",
        "# Convert Mass(kg) column to numeric and handle non-numeric values\n",
        "df[\"Mass(kg)\"] = pd.to_numeric(df['Mass(kg)'], errors='coerce')\n",
        "\n",
        "# Drop any rows with null values\n",
        "df = df.dropna(subset=[\"Volume(km3)\"])\n",
        "# Reshape DataFrame to long-form\n",
        "df2 = df.melt(id_vars=\"Planet\", value_vars=[\"Mass(kg)\"], var_name=\"Mass\", value_name=\"Value_mass\")\n",
        "df = df.melt(id_vars=\"Planet\", value_vars=[\"Volume(km3)\"], var_name=\"Metric\", value_name=\"Value_volume\")\n",
        "# Convert Volume data to scientific notation with custom format\n",
        "df[\"Volume_Scientific\"] = df[\"Value_volume\"].apply(lambda x: \"{:.2e}\".format(x))\n",
        "df[\"Mantissa_volume\"] = df[\"Volume_Scientific\"].apply(lambda x: float(x.split(\"e\")[0]))\n",
        "df[\"Exponent_volume\"] = df[\"Volume_Scientific\"].apply(lambda x: int(x.split(\"e\")[1]))\n",
        "df[\"Mantissa_Formatted_volume\"] = df[\"Mantissa_volume\"].apply(lambda x: \"{:.2f}\".format(x))\n",
        "# Convert Mass data to scientific notation with custom format\n",
        "df2[\"Mass_Scientific\"] = df2[\"Value_mass\"].apply(lambda x: \"{:.2e}\".format(x))\n",
        "df2[\"Mantissa_mass\"] = df2[\"Mass_Scientific\"].apply(lambda x: float(x.split(\"e\")[0]))\n",
        "df2[\"Exponent_mass\"] = df2[\"Mass_Scientific\"].apply(lambda x: int(x.split(\"e\")[1]))\n",
        "df2[\"Mantissa_Formatted_mass\"] = df2[\"Mantissa_mass\"].apply(lambda x: \"{:.2f}\".format(x))\n",
        "\n",
        "# Selecting color to be displayed on each planet\n",
        "color_map = {\n",
        "    'Mercury': '#A9A9A9',     # Silver Chalice\n",
        "    'Venus': '#FFD700',       # Gold\n",
        "    'Earth': '#4682B4',       # Steel Blue\n",
        "    'Mars': '#CD5C5C',        # Chestnut Rose\n",
        "    'Jupiter': '#FF6347',     # Persimmon\n",
        "    'Saturn': '#ffdea7',      # Navajo White\n",
        "    'Uranus': '#87CEEB',      # Seagull\n",
        "    'Neptune': '#3d5ef9'      # Dodger Blue\n",
        "}\n",
        "\n",
        "# Merge mass data from df2 into df\n",
        "df = pd.merge(df, df2, on=\"Planet\", suffixes=('_volume', '_mass'))\n",
        "# Create the scatter plot\n",
        "fig = px.scatter(df,\n",
        "                 x=df1['Orbit Distance(km)'],  # Use the 'Orbit Distance(km)' column for x-axis values\n",
        "                 y=df1['Surface Gravity(m/s2)'],\n",
        "                 size=\"Value_volume\",\n",
        "                 size_max=150,\n",
        "                 hover_data={\"Planet\": True, \"Value_volume\": True, \"Mantissa_Formatted_volume\": True, \"Exponent_volume\": True, \"Value_mass\": True},\n",
        "                 custom_data=[\"Mantissa_Formatted_volume\", \"Exponent_volume\", \"Mantissa_Formatted_mass\", \"Exponent_mass\",df1[\"Orbit Distance(km)\"]],\n",
        "                 color=\"Planet\",\n",
        "                 color_discrete_map=color_map,\n",
        "                 labels={'Value': 'Volume (cm3)'},\n",
        "                 title='Surface Gravity(m/s2) of Solar System Planet',\n",
        "                 text='Planet',\n",
        "                 log_x=True\n",
        "                 )  # Set logarithmic scale for x-axis\n",
        "\n",
        "# change the text position i.e. planet names\n",
        "fig.update_traces(textposition='bottom center', selector=dict(type='scatter'), textfont=dict(color='white'))\n",
        "# change the size of the figure and its background color\n",
        "fig.update_layout(width=1300, height=820, plot_bgcolor='black', legend=dict(bgcolor='darkgray', bordercolor='gray', borderwidth=1))\n",
        "# adding horizontal grid lines\n",
        "fig.update_yaxes(title_text='Surface Gravity(m/s2)', gridcolor='grey', zerolinecolor='grey')\n",
        "# making x-axis invisible\n",
        "fig.update_layout(xaxis=dict(visible=True),template='plotly_dark')\n",
        "# data to be displayed when hovering over the planet for allplanets slider\n",
        "fig.update_traces(hovertemplate=\"\"\"<b>Planet: %{text}</b><br>\n",
        "                  <br><span style='font-size: 12px; font-family: Sans-serif'>Surface Gravity(m/s2): %{y:.2f} g/cm³</span>\n",
        "                  <br><span style='font-size: 12px; font-family: Sans-serif'>Volume(km3): %{customdata[0]} X 10<sup>%{customdata[1]}</sup></span>\n",
        "                  <br><span style='font-size: 12px; font-family: Sans-serif'>Orbit Distance(km) :%{customdata[4]}</span>\n",
        "                  <extra></extra>\"\"\")\n",
        "\n",
        "\n",
        "# Adding background image\n",
        "fig.update_layout(images=[dict(\n",
        "    source=\"https://media.istockphoto.com/id/1372399516/vector/dark-blue-defocused-blurred-motion-gradient-soft-abstract-background-vector.jpg?s=612x612&w=0&k=20&c=ulLw1_awuztJ1ujhXSBAjQpI4L5PHuF-RE01zlAQHZ0=\",\n",
        "    xref=\"paper\", yref=\"paper\",\n",
        "    x=0, y=1,\n",
        "    sizex=1, sizey=1,\n",
        "    sizing=\"stretch\",\n",
        "    opacity=0.5,\n",
        "    layer=\"below\"\n",
        ")])\n",
        "# Set the background color to be black\n",
        "fig.update_layout(legend=dict(bgcolor='black', bordercolor='black', borderwidth=1))\n",
        "# Everytime we hover over the planet the following details will be displayed\n",
        "def get_hover_template(planet):\n",
        "    if planet == \"All Planets\":\n",
        "        return \"<b>Planet: %{text}</b><br><br>\" \\\n",
        "               \"Surface Gravity(m/s2): %{y:.2f} g/cm3<br>\" \\\n",
        "               \"Volume(km3): %{customdata[0]} X 10<sup>%{customdata[1]}</sup><extra></extra>\" \\\n",
        "               \"<br>Orbit Distance(km) :%{customdata[4]}\" \\\n",
        "               \"<extra><extra>\"\n",
        "    else:\n",
        "        return f\"<b>Planet: {planet}</b><br>\" \\\n",
        "               f\"<br>Volume: {df[df['Planet'] == planet]['Mantissa_volume'].values[0]}\" \\\n",
        "               f\"X 10<sup>{df[df['Planet'] == planet]['Exponent_volume'].values[0]} </sup>\" \\\n",
        "               f\"<br>Mass: {df[df['Planet'] == planet]['Mantissa_mass'].values[0]}\" \\\n",
        "               f\"X 10<sup>{df[df['Planet'] == planet]['Exponent_mass'].values[0]} </sup>\"\\\n",
        "               f\"<br>Orbit Distance(km): {df1[df1['Planet'] == planet]['Orbit Distance(km)'].values[0]}\" \\\n",
        "               f\"<br>Surface Gravity: {df1[df1['Planet'] == planet]['Surface Gravity(m/s2)'].values[0]}\"\\\n",
        "               f\"<br>Density: {df1[df1['Planet'] == planet]['Density(g/cm3)'].values[0]}\"\\\n",
        "               f\"<br>Equatorial Radius(km): {df1[df1['Planet'] == planet]['Equatorial Radius(km)'].values[0]}\"\\\n",
        "               f\"<br>Atmospheric Constituents: {df1[df1['Planet'] == planet]['Atmospheric Constituents'].values[0]}\"\\\n",
        "               f\"<br>Mean Orbit Velocity(km/h): {df1[df1['Planet'] == planet]['Mean Orbit Velocity(km/h)'].values[0]}\"\\\n",
        "               f\"<br>Mean Orbit Distance(km): {df1[df1['Planet'] == planet]['Orbit Distance(km)'].values[0]}\"\\\n",
        "               f\"<br>Number of Moons: {df1[df1['Planet'] == planet]['Moons'].values[0]}\"\\\n",
        "               f\"<br>Do they have Rings?: {df1[df1['Planet'] == planet]['Rings'].values[0]}\"\\\n",
        "               f\"<extra></extra>\"\n",
        "\n",
        "# Create the dropdown menu\n",
        "fig.update_layout(\n",
        "    updatemenus=[\n",
        "        {\n",
        "            \"active\": 0,  # setting slider to 'All Planets' option initially\n",
        "            \"buttons\": [\n",
        "                {\n",
        "                    \"label\": \"Solar System\",\n",
        "                    \"method\": \"update\",\n",
        "                    \"args\": [{\"visible\": True,\n",
        "                              \"hovertemplate\": get_hover_template(\"All Planets\")},\n",
        "                             {\"title\": \"Surface Gravity of each Solar System Planets\",\n",
        "                              \"yaxis.visible\": True}]\n",
        "                },\n",
        "                *[\n",
        "                    {\n",
        "                        \"label\": planet,\n",
        "                        \"method\": \"update\",\n",
        "                        \"args\": [{\"visible\": [planet == p for p in df['Planet']],\n",
        "                                  \"hovertemplate\": get_hover_template(planet)},\n",
        "                                 {\"title\": f\"Planet: {planet}\",\n",
        "                                  \"yaxis.visible\": True}],\n",
        "                        \"name\": planet\n",
        "                    }\n",
        "                    for planet in df['Planet']\n",
        "                ]\n",
        "            ],\n",
        "            \"x\": 1.05,\n",
        "            \"y\": 1.05,\n",
        "            \"showactive\": True,\n",
        "            \"xanchor\": \"left\",\n",
        "            \"yanchor\": \"top\",\n",
        "            'bgcolor':'#f2d8d8',\n",
        "            \"font\": {\"color\": \"black\"}\n",
        "        }\n",
        "        # \"#active\": \"gray\"  # Color when hovering over dropdown items\n",
        "    ]\n",
        ")\n",
        "# Update the y-axis label with units in cm³\n",
        "fig.update_layout(yaxis_title='Surface Gravity(m/s2)')\n",
        "# Update the y-axis label with units in cm³\n",
        "fig.update_layout(\n",
        "    xaxis_title='Orbit Distance from the Sun (Km)',\n",
        "    xaxis=dict(\n",
        "        title_standoff=30\n",
        "    )\n",
        ")\n",
        "# modifying the font size and colors\n",
        "fig.update_layout(\n",
        "    title={\n",
        "        'text': \"Surface Gravity of each Solar System Planets\",  # Specify the title text here\n",
        "        'font': {\n",
        "            'family': \"Sans-serif\",  # Specify the font family here\n",
        "            'size': 30,         # Specify the font size here\n",
        "            'color': \"white\"   # Specify the font color here\n",
        "        },\n",
        "        'x': 0.070,  # Center horizontally\n",
        "        # 'y': 0.95,   # Vertical alignment\n",
        "    },\n",
        "    yaxis=dict(\n",
        "        tickfont=dict(\n",
        "            family=\"Sans-serif\",  # Specify the font family for y-axis labels\n",
        "            size=14,         # Specify the font size for y-axis labels\n",
        "            color=\"white\"    # Specify the font color for y-axis labels\n",
        "        )\n",
        "    ),\n",
        "    legend=dict(\n",
        "        font=dict(\n",
        "            family=\"Sans-serif\",  # Specify the font family for legends\n",
        "            size=12,         # Specify the font size for legends\n",
        "            color=\"white\"    # Specify the font color for legends\n",
        "        ),\n",
        "        bgcolor='black'      # Specify the background color for legends\n",
        "    )\n",
        ")\n",
        "# Set y-axis tickprefix to repeat the units\n",
        "fig.update_yaxes(ticksuffix=' m/s2')\n",
        "# set the planet labels font size\n",
        "fig.update_traces(\n",
        "    textposition='bottom center',\n",
        "    selector=dict(type='scatter'),\n",
        "    textfont=dict(color='white', size=12),  # Adjust the size parameter as needed\n",
        "    showlegend=False        # removing the legend\n",
        ")\n",
        "# Add annotation for the description\n",
        "fig.update_layout(\n",
        "    annotations=[\n",
        "        {\n",
        "            \"text\": \"Hover over the planets to learn more\",\n",
        "            \"xref\": \"paper\",\n",
        "            \"yref\": \"paper\",\n",
        "            \"x\": 0.001,\n",
        "            \"y\": 1.05,\n",
        "            \"showarrow\": False,\n",
        "            \"font\": {\n",
        "                \"family\": \"Sans-serif\",\n",
        "                \"size\": 14,\n",
        "                \"color\": \"grey\"\n",
        "            }\n",
        "        },\n",
        "        {\n",
        "            \"text\": \"The x-axis scale represents values increasing by 10 million.\",  # Description text\n",
        "            \"x\": 0.001,  # X position (center)\n",
        "            \"y\": -0.07,  # Y position (negative value to place it below the slider bar)\n",
        "            \"showarrow\": False,  # Hide arrow\n",
        "            \"font\": {\"family\":\"Sans-serif\",\"size\": 12, \"color\": \"grey\"},\n",
        "            \"xref\": \"paper\",\n",
        "            \"yref\": \"paper\",\n",
        "            \"align\": \"left\",  # Align text to the left\n",
        "        }\n",
        "    ]\n",
        ")\n",
        "\n",
        "fig.data[0].marker.line.color = \"white\"\n",
        "fig.data[1].marker.line.color='yellow'\n",
        "fig.data[2].marker.line.color='blue'\n",
        "fig.data[3].marker.line.color = \"red\"\n",
        "\n",
        "fig.show()"
      ]
    },
    {
      "cell_type": "code",
      "execution_count": 2,
      "metadata": {
        "colab": {
          "base_uri": "https://localhost:8080/",
          "height": 667
        },
        "id": "8a6mkfJ-IHwZ",
        "outputId": "80aa7996-7342-47a2-b58b-364572dd77e6"
      },
      "outputs": [
        {
          "data": {
            "application/vnd.plotly.v1+json": {
              "config": {
                "plotlyServerURL": "https://plot.ly"
              },
              "data": [
                {
                  "alignmentgroup": "True",
                  "hovertemplate": "Planet=%{y}<br>Mean Orbit Velocity (km/h)=%{x}<extra></extra>",
                  "legendgroup": "Mercury",
                  "marker": {
                    "color": "#A9A9A9",
                    "pattern": {
                      "shape": ""
                    }
                  },
                  "name": "Mercury",
                  "offsetgroup": "Mercury",
                  "orientation": "h",
                  "showlegend": true,
                  "textposition": "auto",
                  "type": "bar",
                  "x": [
                    170503
                  ],
                  "xaxis": "x",
                  "y": [
                    "Mercury"
                  ],
                  "yaxis": "y"
                },
                {
                  "alignmentgroup": "True",
                  "hovertemplate": "Planet=%{y}<br>Mean Orbit Velocity (km/h)=%{x}<extra></extra>",
                  "legendgroup": "Venus",
                  "marker": {
                    "color": "#FFD700",
                    "pattern": {
                      "shape": ""
                    }
                  },
                  "name": "Venus",
                  "offsetgroup": "Venus",
                  "orientation": "h",
                  "showlegend": true,
                  "textposition": "auto",
                  "type": "bar",
                  "x": [
                    126074
                  ],
                  "xaxis": "x",
                  "y": [
                    "Venus"
                  ],
                  "yaxis": "y"
                },
                {
                  "alignmentgroup": "True",
                  "hovertemplate": "Planet=%{y}<br>Mean Orbit Velocity (km/h)=%{x}<extra></extra>",
                  "legendgroup": "Earth",
                  "marker": {
                    "color": "#4682B4",
                    "pattern": {
                      "shape": ""
                    }
                  },
                  "name": "Earth",
                  "offsetgroup": "Earth",
                  "orientation": "h",
                  "showlegend": true,
                  "textposition": "auto",
                  "type": "bar",
                  "x": [
                    107218
                  ],
                  "xaxis": "x",
                  "y": [
                    "Earth"
                  ],
                  "yaxis": "y"
                },
                {
                  "alignmentgroup": "True",
                  "hovertemplate": "Planet=%{y}<br>Mean Orbit Velocity (km/h)=%{x}<extra></extra>",
                  "legendgroup": "Mars",
                  "marker": {
                    "color": "#CD5C5C",
                    "pattern": {
                      "shape": ""
                    }
                  },
                  "name": "Mars",
                  "offsetgroup": "Mars",
                  "orientation": "h",
                  "showlegend": true,
                  "textposition": "auto",
                  "type": "bar",
                  "x": [
                    86677
                  ],
                  "xaxis": "x",
                  "y": [
                    "Mars"
                  ],
                  "yaxis": "y"
                },
                {
                  "alignmentgroup": "True",
                  "hovertemplate": "Planet=%{y}<br>Mean Orbit Velocity (km/h)=%{x}<extra></extra>",
                  "legendgroup": "Jupiter",
                  "marker": {
                    "color": "#FF6347",
                    "pattern": {
                      "shape": ""
                    }
                  },
                  "name": "Jupiter",
                  "offsetgroup": "Jupiter",
                  "orientation": "h",
                  "showlegend": true,
                  "textposition": "auto",
                  "type": "bar",
                  "x": [
                    47002
                  ],
                  "xaxis": "x",
                  "y": [
                    "Jupiter"
                  ],
                  "yaxis": "y"
                },
                {
                  "alignmentgroup": "True",
                  "hovertemplate": "Planet=%{y}<br>Mean Orbit Velocity (km/h)=%{x}<extra></extra>",
                  "legendgroup": "Saturn",
                  "marker": {
                    "color": "#ffdea7",
                    "pattern": {
                      "shape": ""
                    }
                  },
                  "name": "Saturn",
                  "offsetgroup": "Saturn",
                  "orientation": "h",
                  "showlegend": true,
                  "textposition": "auto",
                  "type": "bar",
                  "x": [
                    34701
                  ],
                  "xaxis": "x",
                  "y": [
                    "Saturn"
                  ],
                  "yaxis": "y"
                },
                {
                  "alignmentgroup": "True",
                  "hovertemplate": "Planet=%{y}<br>Mean Orbit Velocity (km/h)=%{x}<extra></extra>",
                  "legendgroup": "Uranus",
                  "marker": {
                    "color": "#87CEEB",
                    "pattern": {
                      "shape": ""
                    }
                  },
                  "name": "Uranus",
                  "offsetgroup": "Uranus",
                  "orientation": "h",
                  "showlegend": true,
                  "textposition": "auto",
                  "type": "bar",
                  "x": [
                    24477
                  ],
                  "xaxis": "x",
                  "y": [
                    "Uranus"
                  ],
                  "yaxis": "y"
                },
                {
                  "alignmentgroup": "True",
                  "hovertemplate": "Planet=%{y}<br>Mean Orbit Velocity (km/h)=%{x}<extra></extra>",
                  "legendgroup": "Neptune",
                  "marker": {
                    "color": "#3d5ef9",
                    "pattern": {
                      "shape": ""
                    }
                  },
                  "name": "Neptune",
                  "offsetgroup": "Neptune",
                  "orientation": "h",
                  "showlegend": true,
                  "textposition": "auto",
                  "type": "bar",
                  "x": [
                    19566
                  ],
                  "xaxis": "x",
                  "y": [
                    "Neptune"
                  ],
                  "yaxis": "y"
                }
              ],
              "layout": {
                "annotations": [
                  {
                    "align": "left",
                    "font": {
                      "color": "white",
                      "family": "Sans-serif",
                      "size": 12
                    },
                    "showarrow": false,
                    "text": "170.50k",
                    "x": 174765.575,
                    "y": "Mercury"
                  },
                  {
                    "align": "left",
                    "font": {
                      "color": "white",
                      "family": "Sans-serif",
                      "size": 12
                    },
                    "showarrow": false,
                    "text": "126.07k",
                    "x": 130336.575,
                    "y": "Venus"
                  },
                  {
                    "align": "left",
                    "font": {
                      "color": "white",
                      "family": "Sans-serif",
                      "size": 12
                    },
                    "showarrow": false,
                    "text": "107.22k",
                    "x": 111480.575,
                    "y": "Earth"
                  },
                  {
                    "align": "left",
                    "font": {
                      "color": "white",
                      "family": "Sans-serif",
                      "size": 12
                    },
                    "showarrow": false,
                    "text": "86.68k",
                    "x": 90939.575,
                    "y": "Mars"
                  },
                  {
                    "align": "left",
                    "font": {
                      "color": "white",
                      "family": "Sans-serif",
                      "size": 12
                    },
                    "showarrow": false,
                    "text": "47.00k",
                    "x": 51264.575,
                    "y": "Jupiter"
                  },
                  {
                    "align": "left",
                    "font": {
                      "color": "white",
                      "family": "Sans-serif",
                      "size": 12
                    },
                    "showarrow": false,
                    "text": "34.70k",
                    "x": 38963.575,
                    "y": "Saturn"
                  },
                  {
                    "align": "left",
                    "font": {
                      "color": "white",
                      "family": "Sans-serif",
                      "size": 12
                    },
                    "showarrow": false,
                    "text": "24.48k",
                    "x": 28739.575,
                    "y": "Uranus"
                  },
                  {
                    "align": "left",
                    "font": {
                      "color": "white",
                      "family": "Sans-serif",
                      "size": 12
                    },
                    "showarrow": false,
                    "text": "19.57k",
                    "x": 23828.575,
                    "y": "Neptune"
                  }
                ],
                "bargap": 0.3,
                "barmode": "relative",
                "font": {
                  "color": "white",
                  "family": "Sans-serif",
                  "size": 12
                },
                "height": 650,
                "hoverlabel": {
                  "font": {
                    "size": 12
                  }
                },
                "legend": {
                  "title": {
                    "text": "Planet"
                  },
                  "tracegroupgap": 0
                },
                "plot_bgcolor": "rgba(0,0,0,0)",
                "showlegend": false,
                "template": {
                  "data": {
                    "bar": [
                      {
                        "error_x": {
                          "color": "#f2f5fa"
                        },
                        "error_y": {
                          "color": "#f2f5fa"
                        },
                        "marker": {
                          "line": {
                            "color": "rgb(17,17,17)",
                            "width": 0.5
                          },
                          "pattern": {
                            "fillmode": "overlay",
                            "size": 10,
                            "solidity": 0.2
                          }
                        },
                        "type": "bar"
                      }
                    ],
                    "barpolar": [
                      {
                        "marker": {
                          "line": {
                            "color": "rgb(17,17,17)",
                            "width": 0.5
                          },
                          "pattern": {
                            "fillmode": "overlay",
                            "size": 10,
                            "solidity": 0.2
                          }
                        },
                        "type": "barpolar"
                      }
                    ],
                    "carpet": [
                      {
                        "aaxis": {
                          "endlinecolor": "#A2B1C6",
                          "gridcolor": "#506784",
                          "linecolor": "#506784",
                          "minorgridcolor": "#506784",
                          "startlinecolor": "#A2B1C6"
                        },
                        "baxis": {
                          "endlinecolor": "#A2B1C6",
                          "gridcolor": "#506784",
                          "linecolor": "#506784",
                          "minorgridcolor": "#506784",
                          "startlinecolor": "#A2B1C6"
                        },
                        "type": "carpet"
                      }
                    ],
                    "choropleth": [
                      {
                        "colorbar": {
                          "outlinewidth": 0,
                          "ticks": ""
                        },
                        "type": "choropleth"
                      }
                    ],
                    "contour": [
                      {
                        "colorbar": {
                          "outlinewidth": 0,
                          "ticks": ""
                        },
                        "colorscale": [
                          [
                            0,
                            "#0d0887"
                          ],
                          [
                            0.1111111111111111,
                            "#46039f"
                          ],
                          [
                            0.2222222222222222,
                            "#7201a8"
                          ],
                          [
                            0.3333333333333333,
                            "#9c179e"
                          ],
                          [
                            0.4444444444444444,
                            "#bd3786"
                          ],
                          [
                            0.5555555555555556,
                            "#d8576b"
                          ],
                          [
                            0.6666666666666666,
                            "#ed7953"
                          ],
                          [
                            0.7777777777777778,
                            "#fb9f3a"
                          ],
                          [
                            0.8888888888888888,
                            "#fdca26"
                          ],
                          [
                            1,
                            "#f0f921"
                          ]
                        ],
                        "type": "contour"
                      }
                    ],
                    "contourcarpet": [
                      {
                        "colorbar": {
                          "outlinewidth": 0,
                          "ticks": ""
                        },
                        "type": "contourcarpet"
                      }
                    ],
                    "heatmap": [
                      {
                        "colorbar": {
                          "outlinewidth": 0,
                          "ticks": ""
                        },
                        "colorscale": [
                          [
                            0,
                            "#0d0887"
                          ],
                          [
                            0.1111111111111111,
                            "#46039f"
                          ],
                          [
                            0.2222222222222222,
                            "#7201a8"
                          ],
                          [
                            0.3333333333333333,
                            "#9c179e"
                          ],
                          [
                            0.4444444444444444,
                            "#bd3786"
                          ],
                          [
                            0.5555555555555556,
                            "#d8576b"
                          ],
                          [
                            0.6666666666666666,
                            "#ed7953"
                          ],
                          [
                            0.7777777777777778,
                            "#fb9f3a"
                          ],
                          [
                            0.8888888888888888,
                            "#fdca26"
                          ],
                          [
                            1,
                            "#f0f921"
                          ]
                        ],
                        "type": "heatmap"
                      }
                    ],
                    "heatmapgl": [
                      {
                        "colorbar": {
                          "outlinewidth": 0,
                          "ticks": ""
                        },
                        "colorscale": [
                          [
                            0,
                            "#0d0887"
                          ],
                          [
                            0.1111111111111111,
                            "#46039f"
                          ],
                          [
                            0.2222222222222222,
                            "#7201a8"
                          ],
                          [
                            0.3333333333333333,
                            "#9c179e"
                          ],
                          [
                            0.4444444444444444,
                            "#bd3786"
                          ],
                          [
                            0.5555555555555556,
                            "#d8576b"
                          ],
                          [
                            0.6666666666666666,
                            "#ed7953"
                          ],
                          [
                            0.7777777777777778,
                            "#fb9f3a"
                          ],
                          [
                            0.8888888888888888,
                            "#fdca26"
                          ],
                          [
                            1,
                            "#f0f921"
                          ]
                        ],
                        "type": "heatmapgl"
                      }
                    ],
                    "histogram": [
                      {
                        "marker": {
                          "pattern": {
                            "fillmode": "overlay",
                            "size": 10,
                            "solidity": 0.2
                          }
                        },
                        "type": "histogram"
                      }
                    ],
                    "histogram2d": [
                      {
                        "colorbar": {
                          "outlinewidth": 0,
                          "ticks": ""
                        },
                        "colorscale": [
                          [
                            0,
                            "#0d0887"
                          ],
                          [
                            0.1111111111111111,
                            "#46039f"
                          ],
                          [
                            0.2222222222222222,
                            "#7201a8"
                          ],
                          [
                            0.3333333333333333,
                            "#9c179e"
                          ],
                          [
                            0.4444444444444444,
                            "#bd3786"
                          ],
                          [
                            0.5555555555555556,
                            "#d8576b"
                          ],
                          [
                            0.6666666666666666,
                            "#ed7953"
                          ],
                          [
                            0.7777777777777778,
                            "#fb9f3a"
                          ],
                          [
                            0.8888888888888888,
                            "#fdca26"
                          ],
                          [
                            1,
                            "#f0f921"
                          ]
                        ],
                        "type": "histogram2d"
                      }
                    ],
                    "histogram2dcontour": [
                      {
                        "colorbar": {
                          "outlinewidth": 0,
                          "ticks": ""
                        },
                        "colorscale": [
                          [
                            0,
                            "#0d0887"
                          ],
                          [
                            0.1111111111111111,
                            "#46039f"
                          ],
                          [
                            0.2222222222222222,
                            "#7201a8"
                          ],
                          [
                            0.3333333333333333,
                            "#9c179e"
                          ],
                          [
                            0.4444444444444444,
                            "#bd3786"
                          ],
                          [
                            0.5555555555555556,
                            "#d8576b"
                          ],
                          [
                            0.6666666666666666,
                            "#ed7953"
                          ],
                          [
                            0.7777777777777778,
                            "#fb9f3a"
                          ],
                          [
                            0.8888888888888888,
                            "#fdca26"
                          ],
                          [
                            1,
                            "#f0f921"
                          ]
                        ],
                        "type": "histogram2dcontour"
                      }
                    ],
                    "mesh3d": [
                      {
                        "colorbar": {
                          "outlinewidth": 0,
                          "ticks": ""
                        },
                        "type": "mesh3d"
                      }
                    ],
                    "parcoords": [
                      {
                        "line": {
                          "colorbar": {
                            "outlinewidth": 0,
                            "ticks": ""
                          }
                        },
                        "type": "parcoords"
                      }
                    ],
                    "pie": [
                      {
                        "automargin": true,
                        "type": "pie"
                      }
                    ],
                    "scatter": [
                      {
                        "marker": {
                          "line": {
                            "color": "#283442"
                          }
                        },
                        "type": "scatter"
                      }
                    ],
                    "scatter3d": [
                      {
                        "line": {
                          "colorbar": {
                            "outlinewidth": 0,
                            "ticks": ""
                          }
                        },
                        "marker": {
                          "colorbar": {
                            "outlinewidth": 0,
                            "ticks": ""
                          }
                        },
                        "type": "scatter3d"
                      }
                    ],
                    "scattercarpet": [
                      {
                        "marker": {
                          "colorbar": {
                            "outlinewidth": 0,
                            "ticks": ""
                          }
                        },
                        "type": "scattercarpet"
                      }
                    ],
                    "scattergeo": [
                      {
                        "marker": {
                          "colorbar": {
                            "outlinewidth": 0,
                            "ticks": ""
                          }
                        },
                        "type": "scattergeo"
                      }
                    ],
                    "scattergl": [
                      {
                        "marker": {
                          "line": {
                            "color": "#283442"
                          }
                        },
                        "type": "scattergl"
                      }
                    ],
                    "scattermapbox": [
                      {
                        "marker": {
                          "colorbar": {
                            "outlinewidth": 0,
                            "ticks": ""
                          }
                        },
                        "type": "scattermapbox"
                      }
                    ],
                    "scatterpolar": [
                      {
                        "marker": {
                          "colorbar": {
                            "outlinewidth": 0,
                            "ticks": ""
                          }
                        },
                        "type": "scatterpolar"
                      }
                    ],
                    "scatterpolargl": [
                      {
                        "marker": {
                          "colorbar": {
                            "outlinewidth": 0,
                            "ticks": ""
                          }
                        },
                        "type": "scatterpolargl"
                      }
                    ],
                    "scatterternary": [
                      {
                        "marker": {
                          "colorbar": {
                            "outlinewidth": 0,
                            "ticks": ""
                          }
                        },
                        "type": "scatterternary"
                      }
                    ],
                    "surface": [
                      {
                        "colorbar": {
                          "outlinewidth": 0,
                          "ticks": ""
                        },
                        "colorscale": [
                          [
                            0,
                            "#0d0887"
                          ],
                          [
                            0.1111111111111111,
                            "#46039f"
                          ],
                          [
                            0.2222222222222222,
                            "#7201a8"
                          ],
                          [
                            0.3333333333333333,
                            "#9c179e"
                          ],
                          [
                            0.4444444444444444,
                            "#bd3786"
                          ],
                          [
                            0.5555555555555556,
                            "#d8576b"
                          ],
                          [
                            0.6666666666666666,
                            "#ed7953"
                          ],
                          [
                            0.7777777777777778,
                            "#fb9f3a"
                          ],
                          [
                            0.8888888888888888,
                            "#fdca26"
                          ],
                          [
                            1,
                            "#f0f921"
                          ]
                        ],
                        "type": "surface"
                      }
                    ],
                    "table": [
                      {
                        "cells": {
                          "fill": {
                            "color": "#506784"
                          },
                          "line": {
                            "color": "rgb(17,17,17)"
                          }
                        },
                        "header": {
                          "fill": {
                            "color": "#2a3f5f"
                          },
                          "line": {
                            "color": "rgb(17,17,17)"
                          }
                        },
                        "type": "table"
                      }
                    ]
                  },
                  "layout": {
                    "annotationdefaults": {
                      "arrowcolor": "#f2f5fa",
                      "arrowhead": 0,
                      "arrowwidth": 1
                    },
                    "autotypenumbers": "strict",
                    "coloraxis": {
                      "colorbar": {
                        "outlinewidth": 0,
                        "ticks": ""
                      }
                    },
                    "colorscale": {
                      "diverging": [
                        [
                          0,
                          "#8e0152"
                        ],
                        [
                          0.1,
                          "#c51b7d"
                        ],
                        [
                          0.2,
                          "#de77ae"
                        ],
                        [
                          0.3,
                          "#f1b6da"
                        ],
                        [
                          0.4,
                          "#fde0ef"
                        ],
                        [
                          0.5,
                          "#f7f7f7"
                        ],
                        [
                          0.6,
                          "#e6f5d0"
                        ],
                        [
                          0.7,
                          "#b8e186"
                        ],
                        [
                          0.8,
                          "#7fbc41"
                        ],
                        [
                          0.9,
                          "#4d9221"
                        ],
                        [
                          1,
                          "#276419"
                        ]
                      ],
                      "sequential": [
                        [
                          0,
                          "#0d0887"
                        ],
                        [
                          0.1111111111111111,
                          "#46039f"
                        ],
                        [
                          0.2222222222222222,
                          "#7201a8"
                        ],
                        [
                          0.3333333333333333,
                          "#9c179e"
                        ],
                        [
                          0.4444444444444444,
                          "#bd3786"
                        ],
                        [
                          0.5555555555555556,
                          "#d8576b"
                        ],
                        [
                          0.6666666666666666,
                          "#ed7953"
                        ],
                        [
                          0.7777777777777778,
                          "#fb9f3a"
                        ],
                        [
                          0.8888888888888888,
                          "#fdca26"
                        ],
                        [
                          1,
                          "#f0f921"
                        ]
                      ],
                      "sequentialminus": [
                        [
                          0,
                          "#0d0887"
                        ],
                        [
                          0.1111111111111111,
                          "#46039f"
                        ],
                        [
                          0.2222222222222222,
                          "#7201a8"
                        ],
                        [
                          0.3333333333333333,
                          "#9c179e"
                        ],
                        [
                          0.4444444444444444,
                          "#bd3786"
                        ],
                        [
                          0.5555555555555556,
                          "#d8576b"
                        ],
                        [
                          0.6666666666666666,
                          "#ed7953"
                        ],
                        [
                          0.7777777777777778,
                          "#fb9f3a"
                        ],
                        [
                          0.8888888888888888,
                          "#fdca26"
                        ],
                        [
                          1,
                          "#f0f921"
                        ]
                      ]
                    },
                    "colorway": [
                      "#636efa",
                      "#EF553B",
                      "#00cc96",
                      "#ab63fa",
                      "#FFA15A",
                      "#19d3f3",
                      "#FF6692",
                      "#B6E880",
                      "#FF97FF",
                      "#FECB52"
                    ],
                    "font": {
                      "color": "#f2f5fa"
                    },
                    "geo": {
                      "bgcolor": "rgb(17,17,17)",
                      "lakecolor": "rgb(17,17,17)",
                      "landcolor": "rgb(17,17,17)",
                      "showlakes": true,
                      "showland": true,
                      "subunitcolor": "#506784"
                    },
                    "hoverlabel": {
                      "align": "left"
                    },
                    "hovermode": "closest",
                    "mapbox": {
                      "style": "dark"
                    },
                    "paper_bgcolor": "rgb(17,17,17)",
                    "plot_bgcolor": "rgb(17,17,17)",
                    "polar": {
                      "angularaxis": {
                        "gridcolor": "#506784",
                        "linecolor": "#506784",
                        "ticks": ""
                      },
                      "bgcolor": "rgb(17,17,17)",
                      "radialaxis": {
                        "gridcolor": "#506784",
                        "linecolor": "#506784",
                        "ticks": ""
                      }
                    },
                    "scene": {
                      "xaxis": {
                        "backgroundcolor": "rgb(17,17,17)",
                        "gridcolor": "#506784",
                        "gridwidth": 2,
                        "linecolor": "#506784",
                        "showbackground": true,
                        "ticks": "",
                        "zerolinecolor": "#C8D4E3"
                      },
                      "yaxis": {
                        "backgroundcolor": "rgb(17,17,17)",
                        "gridcolor": "#506784",
                        "gridwidth": 2,
                        "linecolor": "#506784",
                        "showbackground": true,
                        "ticks": "",
                        "zerolinecolor": "#C8D4E3"
                      },
                      "zaxis": {
                        "backgroundcolor": "rgb(17,17,17)",
                        "gridcolor": "#506784",
                        "gridwidth": 2,
                        "linecolor": "#506784",
                        "showbackground": true,
                        "ticks": "",
                        "zerolinecolor": "#C8D4E3"
                      }
                    },
                    "shapedefaults": {
                      "line": {
                        "color": "#f2f5fa"
                      }
                    },
                    "sliderdefaults": {
                      "bgcolor": "#C8D4E3",
                      "bordercolor": "rgb(17,17,17)",
                      "borderwidth": 1,
                      "tickwidth": 0
                    },
                    "ternary": {
                      "aaxis": {
                        "gridcolor": "#506784",
                        "linecolor": "#506784",
                        "ticks": ""
                      },
                      "baxis": {
                        "gridcolor": "#506784",
                        "linecolor": "#506784",
                        "ticks": ""
                      },
                      "bgcolor": "rgb(17,17,17)",
                      "caxis": {
                        "gridcolor": "#506784",
                        "linecolor": "#506784",
                        "ticks": ""
                      }
                    },
                    "title": {
                      "x": 0.05
                    },
                    "updatemenudefaults": {
                      "bgcolor": "#506784",
                      "borderwidth": 0
                    },
                    "xaxis": {
                      "automargin": true,
                      "gridcolor": "#283442",
                      "linecolor": "#506784",
                      "ticks": "",
                      "title": {
                        "standoff": 15
                      },
                      "zerolinecolor": "#283442",
                      "zerolinewidth": 2
                    },
                    "yaxis": {
                      "automargin": true,
                      "gridcolor": "#283442",
                      "linecolor": "#506784",
                      "ticks": "",
                      "title": {
                        "standoff": 15
                      },
                      "zerolinecolor": "#283442",
                      "zerolinewidth": 2
                    }
                  }
                },
                "title": {
                  "font": {
                    "size": 22
                  },
                  "text": "Mean Orbital Velocity (km/h) of Solar System Planets"
                },
                "width": 1200,
                "xaxis": {
                  "anchor": "y",
                  "domain": [
                    0,
                    1
                  ],
                  "showgrid": true,
                  "title": {
                    "text": "Mean Orbit Velocity (km/h)"
                  }
                },
                "yaxis": {
                  "anchor": "x",
                  "categoryarray": [
                    "Neptune",
                    "Uranus",
                    "Saturn",
                    "Jupiter",
                    "Mars",
                    "Earth",
                    "Venus",
                    "Mercury"
                  ],
                  "categoryorder": "array",
                  "domain": [
                    0,
                    1
                  ],
                  "showgrid": false,
                  "title": {
                    "text": "Planet"
                  }
                }
              }
            }
          },
          "metadata": {},
          "output_type": "display_data"
        }
      ],
      "source": [
        "# SECOND VISUALISATION\n",
        "\n",
        "import pandas as pd\n",
        "import plotly.express as px\n",
        "\n",
        "# Read data\n",
        "rotation_velocity = pd.read_csv('Planet.csv', encoding='iso-8859-1')\n",
        "\n",
        "# Remove commas from 'Mean Orbit Velocity(km/h)' column and convert to numeric\n",
        "rotation_velocity['Mean Orbit Velocity(km/h)'] = rotation_velocity['Mean Orbit Velocity(km/h)'].str.replace(',', '')\n",
        "rotation_velocity['Mean Orbit Velocity(km/h)'] = pd.to_numeric(rotation_velocity['Mean Orbit Velocity(km/h)'])\n",
        "\n",
        "# Sort the DataFrame based on 'Mean Orbit Velocity(km/h)' column\n",
        "rotation_velocity = rotation_velocity.sort_values(by='Mean Orbit Velocity(km/h)', ascending=False)\n",
        "\n",
        "# Selecting sequential color for each planet\n",
        "color_scale={\n",
        "    'Mercury': '#A9A9A9',     # Silver Chalice\n",
        "    'Venus': '#FFD700',       # Gold\n",
        "    'Earth': '#4682B4',       # Steel Blue\n",
        "    'Mars': '#CD5C5C',        # Chestnut Rose\n",
        "    'Jupiter': '#FF6347',     # Persimmon\n",
        "    'Saturn': '#ffdea7',      # Navajo White\n",
        "    'Uranus': '#87CEEB',      # Seagull\n",
        "    'Neptune': '#3d5ef9'      # Dodger Blue\n",
        "}\n",
        "fig = px.bar(rotation_velocity,\n",
        "             x=\"Mean Orbit Velocity(km/h)\",\n",
        "             y=\"Planet\",\n",
        "             orientation='h',\n",
        "             title=\"Mean Orbital Velocity (km/h) of Solar System Planets\",\n",
        "             labels={\"Mean Orbit Velocity(km/h)\": \"Mean Orbit Velocity (km/h)\"},\n",
        "             template='plotly_dark',\n",
        "             color_discrete_map=color_scale,  # Use color_discrete_map to assign colors based on color_map\n",
        "             color=\"Planet\")  # Use \"Planet\" column for color assignment\n",
        "\n",
        "# Calculate the maximum value of the bars\n",
        "max_value = rotation_velocity['Mean Orbit Velocity(km/h)'].max()\n",
        "# Add annotations to each bar\n",
        "for i in range(len(rotation_velocity)):\n",
        "    orbit_velocity = rotation_velocity.iloc[i]['Mean Orbit Velocity(km/h)']\n",
        "    orbit_velocity_k = \"{:.2f}k\".format(orbit_velocity / 1000)  # Format value in \"k\" format\n",
        "    # Set x-coordinate as a fraction of the maximum value of the bars\n",
        "    x_coordinate = max_value * 0.025\n",
        "    fig.add_annotation(\n",
        "        x=orbit_velocity + x_coordinate,\n",
        "        y=rotation_velocity.iloc[i]['Planet'],\n",
        "        text=orbit_velocity_k,  # Value to display in \"k\" format\n",
        "        showarrow=False,\n",
        "        font=dict(family=\"Sans-serif\",color='white', size=12),\n",
        "        align='left'\n",
        "    )\n",
        "# Customizing layout\n",
        "fig.update_layout(\n",
        "    width=1200,\n",
        "    height=650,\n",
        "    plot_bgcolor='rgba(0,0,0,0)',\n",
        "    title_font_size=22,\n",
        "    font=dict(\n",
        "        family=\"Sans-serif\",\n",
        "        size=12,\n",
        "        color=\"white\"\n",
        "    ),\n",
        "    xaxis_title=\"Mean Orbit Velocity (km/h)\",\n",
        "    yaxis_title=\"Planet\",\n",
        "    xaxis_showgrid=True,\n",
        "    yaxis_showgrid=False,\n",
        "    bargap=0.3,\n",
        "    hoverlabel=dict(font_size=12),\n",
        "    showlegend=False  # Remove legend\n",
        ")\n",
        "\n",
        "fig.show()\n"
      ]
    }
  ],
  "metadata": {
    "colab": {
      "provenance": []
    },
    "kernelspec": {
      "display_name": "Python 3",
      "name": "python3"
    },
    "language_info": {
      "codemirror_mode": {
        "name": "ipython",
        "version": 3
      },
      "file_extension": ".py",
      "mimetype": "text/x-python",
      "name": "python",
      "nbconvert_exporter": "python",
      "pygments_lexer": "ipython3",
      "version": "3.11.2"
    }
  },
  "nbformat": 4,
  "nbformat_minor": 0
}
